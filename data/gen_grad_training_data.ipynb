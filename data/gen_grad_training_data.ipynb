{
 "cells": [
  {
   "cell_type": "code",
   "execution_count": 2,
   "metadata": {},
   "outputs": [
    {
     "name": "stderr",
     "output_type": "stream",
     "text": [
      "/home/mtrautne/miniconda3/lib/python3.9/site-packages/tqdm/auto.py:22: TqdmWarning: IProgress not found. Please update jupyter and ipywidgets. See https://ipywidgets.readthedocs.io/en/stable/user_install.html\n",
      "  from .autonotebook import tqdm as notebook_tqdm\n"
     ]
    }
   ],
   "source": [
    "import sys\n",
    "import os\n",
    "sys.path.append(os.path.join('..'))\n",
    "from analysis.eval_model_helpers import *\n",
    "from models.func_to_func2d_invasive import FNO2d\n",
    "from util.utilities_module import *\n",
    "from gen_GRF import *\n",
    "import torch\n",
    "import matplotlib.pyplot as plt\n",
    "import matplotlib\n",
    "import numpy as np\n",
    "import pickle as pkl\n"
   ]
  },
  {
   "cell_type": "code",
   "execution_count": null,
   "metadata": {},
   "outputs": [],
   "source": [
    "def gaussian_random_field_grad(s,size):\n",
    "    \"\"\" \n",
    "    Generate a 2D  Gaussian Random Field and its gradient\n",
    "    \"\"\"\n",
    "    # generate the same field for all sizes\n",
    "\n",
    "    d=2\n",
    "\n",
    "    alpha = s + d/2\n",
    "\n",
    "    # Defines momentum indices\n",
    "    ks_x = torch.fft.fftfreq(size,d = 1/size)\n",
    "    ks_y = torch.fft.rfftfreq(size,d = 1/size)\n",
    "    ks_x_2d, ks_y_2d = torch.meshgrid(ks_x, ks_y, indexing = 'ij')\n",
    "\n",
    "    \n",
    "    lambda_k = (ks_x_2d**2 + ks_y_2d**2 + 1)**(-alpha/2)\n",
    "\n",
    "    noise_re, noise_im = torch.randn(2,*lambda_k.shape)\n",
    "    xi_noise = noise_re + 1j*noise_im\n",
    "    u_ft2 = xi_noise*lambda_k\n",
    "    gfield = torch.fft.irfft2(u_ft2,norm = 'forward')\n",
    "\n",
    "    # compute the gradient\n",
    "    u_ft2_dx = 2*np.pi*1j*ks_x_2d*u_ft2\n",
    "    u_ft2_dy = 2*np.pi*1j*ks_y_2d*u_ft2\n",
    "\n",
    "    gfield_dx = torch.fft.irfft2(u_ft2_dx,norm = 'forward')\n",
    "    gfield_dy = torch.fft.irfft2(u_ft2_dy,norm = 'forward')\n",
    "\n",
    "    return gfield, gfield_dx, gfield_dy"
   ]
  },
  {
   "cell_type": "code",
   "execution_count": null,
   "metadata": {},
   "outputs": [],
   "source": [
    "# Generate data (GRF inputs)\n",
    "s = 2\n",
    "# set torch seed\n",
    "size = 512\n",
    "torch.manual_seed(1989)\n",
    "# process input arguments\n",
    "sample_count = 10\n",
    "input_data = torch.zeros(sample_count,1,size,size)\n",
    "output_data = torch.zeros(sample_count,2,size,size)\n",
    "\n",
    "for n in range(sample_count):\n",
    "    gfield, gfield_dx, gfield_dy = gaussian_random_field_grad(s,size)\n",
    "    input = gfield\n",
    "    output = torch.stack([gfield_dx,gfield_dy],axis = 0)\n",
    "    input_data[n] = input\n",
    "    output_data[n] = output\n",
    "\n",
    "# save the data\n",
    "torch.save(input_data,'grad_training_data/input_data_grad.pt')\n",
    "torch.save(output_data,'grad_training_data/output_data_grad.pt')\n",
    "\n",
    "\n",
    "# take gradient with torch\n",
    "gfield_tx, gfield_ty = torch.gradient(gfield,spacing = 1/size)\n",
    "    \n",
    "# plot the generated GRF\n",
    "fig, ax = plt.subplots(1, 5, figsize=(15, 5))\n",
    "ax0 = ax[0].imshow(gfield, cmap='viridis')\n",
    "plt.colorbar(ax0, ax=ax[0])\n",
    "ax[0].set_title('GRF')\n",
    "ax1 = ax[1].imshow(gfield_dx, cmap='viridis')\n",
    "plt.colorbar(ax1, ax=ax[1])\n",
    "ax[1].set_title('GRF_dx')\n",
    "ax2 = ax[2].imshow(gfield_dy, cmap='viridis')\n",
    "plt.colorbar(ax2, ax=ax[2])\n",
    "ax[2].set_title('GRF_dy')\n",
    "\n",
    "ax3 = ax[3].imshow(gfield_tx, cmap='viridis')\n",
    "plt.colorbar(ax3, ax=ax[3])\n",
    "ax[3].set_title('GRF_tx')\n",
    "ax4 = ax[4].imshow(gfield_ty, cmap='viridis')\n",
    "plt.colorbar(ax4, ax=ax[4])\n",
    "ax[4].set_title('GRF_ty')\n",
    "\n",
    "\n",
    "plt.show()\n"
   ]
  },
  {
   "cell_type": "code",
   "execution_count": 3,
   "metadata": {},
   "outputs": [],
   "source": [
    "smooth_data_file = '/groups/astuart/mtrautne/learnHomData/data/smooth_data.pkl'\n",
    "smooth_data = pkl.load(open(smooth_data_file,'rb'))\n",
    "A_input, chi_1, chi_2, x_ticks, y_ticks = smooth_data\n",
    "\n",
    "# delete chi2\n",
    "chi_2= None"
   ]
  },
  {
   "cell_type": "code",
   "execution_count": 21,
   "metadata": {},
   "outputs": [
    {
     "name": "stdout",
     "output_type": "stream",
     "text": [
      "(10000, 16384, 2, 2)\n",
      "(16384, 10000)\n",
      "(16384, 10000)\n",
      "128\n"
     ]
    }
   ],
   "source": [
    "print(A_input.shape)\n",
    "print(chi_1.shape)\n",
    "\n",
    "# A_input = torch.tensor(A_input)\n",
    "sgc = len(x_ticks[0])\n",
    "print(sgc)\n",
    "N_data = A_input.shape[0]\n",
    "# chi_1 = torch.tensor(chi_1)\n",
    "# chi_2 = torch.tensor(chi_2)\n",
    "# x_ticks = torch.tensor(x_ticks)\n",
    "# y_ticks = torch.tensor(y_ticks)\n",
    "A_input = np.reshape(A_input, (N_data,sgc,sgc,4))\n",
    "\n",
    "A_input = np.delete(A_input, 2, axis = 3)\n",
    "A_input = np.transpose(A_input, (0,3,1,2))\n",
    "A_input = torch.tensor(A_input).float()\n",
    "data_path = 'smooth_training_data/A_to_chi1' \n",
    "torch.save(A_input, data_path + '_input_data.pt')\n",
    "A_input = None\n",
    "\n",
    "data_output = np.reshape(chi_1, (N_data, sgc, sgc, 1))\n",
    "data_output = np.transpose(data_output, (0,3,1,2))\n",
    "\n",
    "print(data_input[:3,:,1,1])\n",
    "print(data_output[:3,:,1,1])\n",
    "\n",
    "# to torch array\n",
    "data_input = torch.tensor(data_input).float()\n",
    "data_output = torch.tensor(data_output).float()\n",
    "\n",
    "# save the data\n",
    "\n",
    "torch.save(data_output, data_path + '_output_data.pt')\n"
   ]
  }
 ],
 "metadata": {
  "kernelspec": {
   "display_name": "base",
   "language": "python",
   "name": "python3"
  },
  "language_info": {
   "codemirror_mode": {
    "name": "ipython",
    "version": 3
   },
   "file_extension": ".py",
   "mimetype": "text/x-python",
   "name": "python",
   "nbconvert_exporter": "python",
   "pygments_lexer": "ipython3",
   "version": "3.9.7"
  }
 },
 "nbformat": 4,
 "nbformat_minor": 2
}
